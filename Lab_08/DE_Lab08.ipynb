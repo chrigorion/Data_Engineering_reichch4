{
 "cells": [
  {
   "cell_type": "markdown",
   "metadata": {},
   "source": [
    "# Data Engineering: Lab 08\n",
    "---------------"
   ]
  },
  {
   "cell_type": "markdown",
   "metadata": {},
   "source": [
    "### Task 01: Consistent Hashing\n",
    "#### Fill the parts marked with Todo for a complete implementation of Consistent Hashing"
   ]
  },
  {
   "cell_type": "code",
   "execution_count": null,
   "metadata": {},
   "outputs": [],
   "source": [
    "import names\n",
    "import pandas as pd\n",
    "\n",
    "#returns list of size n with random names\n",
    "def getData(n):\n",
    "    data = []\n",
    "    i = 0\n",
    "    while i < n:\n",
    "        data.append(names.get_first_name())\n",
    "        i += 1\n",
    "    return data\n",
    "\n",
    "#returns list of hash values for list of data\n",
    "def getHashs(data):\n",
    "    hashs = []\n",
    "    for word in data:\n",
    "        hashs.append(abs(hash(word)) % (10 ** 8))\n",
    "    return hashs\n",
    "\n",
    "#returns list of size m with random server names\n",
    "def getServers(m):\n",
    "    data = []\n",
    "    i = 0\n",
    "    while i < m:\n",
    "        data.append('Server_' + names.get_first_name())\n",
    "        i += 1\n",
    "    return data\n",
    "\n",
    "#TodO: create a DataFrame with the list created with the function getdata(100) \n",
    "# and a type column filled with the type key\n",
    "\n",
    "\n",
    "#Todo: add a column to the DataFrame with the hashs created with the getHashs() method\n",
    "\n",
    "#Todo: create m servers with the getServers function and add them to the DataFrame with the type server\n",
    "\n",
    "#Todo: add a column to the DataFrame with the angle on the circle\n",
    "\n",
    "#Todo: add a column to the DataFrame with the corresponding server\n",
    "\n",
    "#Todo: print the final DataFrame"
   ]
  },
  {
   "cell_type": "code",
   "execution_count": 3,
   "metadata": {},
   "outputs": [
    {
     "name": "stdout",
     "output_type": "stream",
     "text": [
      "       name  type\n",
      "0     Essie  User\n",
      "1     James  User\n",
      "2       Leo  User\n",
      "3   Kenneth  User\n",
      "4  Fredrick  User\n"
     ]
    }
   ],
   "source": [
    "# Create a DataFrame with the list from getData(100) and a 'type' column\n",
    "def createDataFrame():\n",
    "    data = getData(100)  # Generate 100 random names\n",
    "    type_key = \"User\"  # Define the type key\n",
    "    df = pd.DataFrame({\n",
    "        'name': data,\n",
    "        'type': type_key  # Fill the column with the type key\n",
    "    })\n",
    "    return df\n",
    "\n",
    "# Example usage\n",
    "df = createDataFrame()\n",
    "print(df.head())  # Display the first few rows of the DataFrame\n"
   ]
  },
  {
   "cell_type": "markdown",
   "metadata": {},
   "source": [
    "### Task 02: Balanced Consistent Hashing\n",
    "#### Extend the code from Task 01 to ensure object keys are evenly distributed among servers"
   ]
  },
  {
   "cell_type": "code",
   "execution_count": null,
   "metadata": {},
   "outputs": [],
   "source": []
  },
  {
   "cell_type": "markdown",
   "metadata": {},
   "source": [
    "### Task 03: Weighted Balanced Consistent Hashing\n",
    "#### Extend the code from Task 01 to ensure object keys are evenly distributed among servers but also with a weighting of the single servers."
   ]
  },
  {
   "cell_type": "code",
   "execution_count": null,
   "metadata": {},
   "outputs": [],
   "source": []
  }
 ],
 "metadata": {
  "kernelspec": {
   "display_name": ".venv",
   "language": "python",
   "name": "python3"
  },
  "language_info": {
   "codemirror_mode": {
    "name": "ipython",
    "version": 3
   },
   "file_extension": ".py",
   "mimetype": "text/x-python",
   "name": "python",
   "nbconvert_exporter": "python",
   "pygments_lexer": "ipython3",
   "version": "3.11.5"
  }
 },
 "nbformat": 4,
 "nbformat_minor": 4
}
