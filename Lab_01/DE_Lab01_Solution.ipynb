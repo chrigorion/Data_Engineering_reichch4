{
 "cells": [
  {
   "cell_type": "markdown",
   "metadata": {},
   "source": [
    "# Data Engineering: Lab 01 - Solution\n",
    "---------------"
   ]
  },
  {
   "cell_type": "markdown",
   "metadata": {},
   "source": [
    "### Setup\n",
    "This lab is for installing and setting up your machine for the labs in the course Data Engineering.\n",
    "If you have any questions, please ask in the teams channel asap. If you already have installed the necessary tools and libraries, you can just skip this lab."
   ]
  },
  {
   "cell_type": "markdown",
   "metadata": {},
   "source": [
    "##### a) Check your installed Python version. We need a version higher or equal Python 3.8."
   ]
  },
  {
   "cell_type": "code",
   "execution_count": null,
   "metadata": {},
   "outputs": [],
   "source": [
    "import sys\n",
    "\n",
    "if sys.version_info >= (3, 8):\n",
    "    print(\"Done. Python >= 3.8 already installed.\")\n",
    "else:\n",
    "    print(\"Python >= 3.8 not installed. Please install a corresponding version.\")"
   ]
  },
  {
   "cell_type": "markdown",
   "metadata": {},
   "source": [
    "##### b) Check if you already have installed Pip. Pip is the package installer for Python, which we need in the following labs."
   ]
  },
  {
   "cell_type": "code",
   "execution_count": null,
   "metadata": {},
   "outputs": [],
   "source": [
    "try:\n",
    "    import pip\n",
    "    print(\"Done. Pip already installed.\")\n",
    "except ImportError:\n",
    "    print(\"Pip not installed. Please install the newest version.\")"
   ]
  },
  {
   "cell_type": "markdown",
   "metadata": {},
   "source": [
    "#### c) Check if you already have installed Pandas. Pandas is the data analysis library, which we need in the following labs."
   ]
  },
  {
   "cell_type": "code",
   "execution_count": null,
   "metadata": {},
   "outputs": [],
   "source": [
    "try:\n",
    "    import pandas as pd\n",
    "    print(\"Done. Pandas already installed.\")\n",
    "except ImportError:\n",
    "    print(\"Pandas not installed. Please install the newest version.\")"
   ]
  },
  {
   "cell_type": "markdown",
   "metadata": {},
   "source": [
    "#### d) Print each character line by line for the sentence \"Im ready and super excited for the course Data Engineering\"."
   ]
  },
  {
   "cell_type": "code",
   "execution_count": null,
   "metadata": {},
   "outputs": [],
   "source": [
    "sentence = 'Im ready and super excited for the course Data Engineering'\n",
    "\n",
    "for c in sentence:\n",
    "    print(c)"
   ]
  }
 ],
 "metadata": {
  "kernelspec": {
   "display_name": "Python 3",
   "language": "python",
   "name": "python3"
  },
  "language_info": {
   "codemirror_mode": {
    "name": "ipython",
    "version": 3
   },
   "file_extension": ".py",
   "mimetype": "text/x-python",
   "name": "python",
   "nbconvert_exporter": "python",
   "pygments_lexer": "ipython3",
   "version": "3.8.6"
  }
 },
 "nbformat": 4,
 "nbformat_minor": 4
}
