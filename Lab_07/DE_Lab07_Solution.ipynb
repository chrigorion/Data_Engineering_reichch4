{
 "cells": [
  {
   "cell_type": "markdown",
   "metadata": {},
   "source": [
    "# Data Engineering: Lab 07 - Solution\n",
    "---------------"
   ]
  },
  {
   "cell_type": "markdown",
   "metadata": {},
   "source": [
    "### Task 01: Indexing"
   ]
  },
  {
   "cell_type": "markdown",
   "metadata": {},
   "source": [
    "##### a) Read the file 'sprichwoerter.txt' into a variable called corpus."
   ]
  },
  {
   "cell_type": "code",
   "execution_count": null,
   "metadata": {},
   "outputs": [],
   "source": [
    "def readCorpus(filename):\n",
    "    content = ''\n",
    "    with open(filename) as f:\n",
    "        content = f.readlines()\n",
    "    return content\n",
    "\n",
    "corpus = readCorpus('sprichwoerter.txt')"
   ]
  },
  {
   "cell_type": "markdown",
   "metadata": {},
   "source": [
    "##### b) Read the stopwords from the file 'stopwoerter.txt' into a variable called stopwords."
   ]
  },
  {
   "cell_type": "code",
   "execution_count": null,
   "metadata": {},
   "outputs": [],
   "source": [
    "def readStopwords(filename):\n",
    "    stopwords = set()\n",
    "    with open(filename) as f:\n",
    "        content = f.readlines()\n",
    "    for c in content:\n",
    "        tc = c.strip()\n",
    "        stopwords.add(tc)\n",
    "    return stopwords\n",
    "\n",
    "stopwords = readStopwords('stopwoerter.txt')"
   ]
  },
  {
   "cell_type": "markdown",
   "metadata": {},
   "source": [
    "##### c) Create an index of the corpus called 'index1'. Remove all non-characters, split by whitespace, and convert all terms to lower-case."
   ]
  },
  {
   "cell_type": "code",
   "execution_count": null,
   "metadata": {},
   "outputs": [],
   "source": [
    "import re\n",
    "\n",
    "def index1Corpus(corpus):\n",
    "    index = {}\n",
    "    pos = 0\n",
    "    for c in corpus:\n",
    "        cindex = set()\n",
    "        terms = c.split(' ')\n",
    "        for t in terms:\n",
    "            tt = re.sub(r'\\W+', '', t).lower()\n",
    "            if tt not in cindex:\n",
    "                cindex.add(tt)\n",
    "        index[pos] = cindex\n",
    "        pos += 1\n",
    "    return index\n",
    "\n",
    "index1 = index1Corpus(corpus)"
   ]
  },
  {
   "cell_type": "markdown",
   "metadata": {},
   "source": [
    "##### d) Create an index of the corpus called 'index2'. Remove all non-characters, split by whitespace, convert all terms to lower-case, and also remove all stopwords."
   ]
  },
  {
   "cell_type": "code",
   "execution_count": null,
   "metadata": {},
   "outputs": [],
   "source": [
    "def index2Corpus(corpus):\n",
    "    index = {}\n",
    "    pos = 0\n",
    "    for c in corpus:\n",
    "        cindex = set()\n",
    "        terms = c.split(' ')\n",
    "        for t in terms:\n",
    "            tt = re.sub(r'\\W+', '', t).lower()\n",
    "            if tt not in cindex and tt not in stopwords:\n",
    "                cindex.add(tt)\n",
    "        index[pos] = cindex\n",
    "        pos += 1\n",
    "    return index\n",
    "\n",
    "index2 = index2Corpus(corpus)"
   ]
  },
  {
   "cell_type": "markdown",
   "metadata": {},
   "source": [
    "##### e) Create an index of the corpus called 'index3'. Remove all non-characters, split by whitespace, convert all terms to lower-case, remove all stopwords, and also use stemming (with a library of your choice, e.g., Snowball Stemmer)."
   ]
  },
  {
   "cell_type": "code",
   "execution_count": null,
   "metadata": {},
   "outputs": [],
   "source": [
    "from nltk.stem import SnowballStemmer\n",
    "\n",
    "def index3Corpus(corpus):\n",
    "    stemmer = SnowballStemmer('german')\n",
    "    index = {}\n",
    "    pos = 0\n",
    "    for c in corpus:\n",
    "        cindex = set()\n",
    "        terms = c.split(' ')\n",
    "        for t in terms:\n",
    "            tt = re.sub(r'\\W+', '', t).lower()\n",
    "            if tt not in stopwords:\n",
    "                tts = stemmer.stem(tt)\n",
    "                if tts not in cindex:\n",
    "                    cindex.add(tts)\n",
    "        index[pos] = cindex\n",
    "        pos += 1\n",
    "    return index\n",
    "\n",
    "index3 = index3Corpus(corpus)"
   ]
  },
  {
   "cell_type": "markdown",
   "metadata": {},
   "source": [
    "### Task 02: Matching"
   ]
  },
  {
   "cell_type": "markdown",
   "metadata": {},
   "source": [
    "##### a) Create a method called evaluate which uses the boolean retrieval function to evaluate a search query against the documents in the choosen index."
   ]
  },
  {
   "cell_type": "code",
   "execution_count": null,
   "metadata": {},
   "outputs": [],
   "source": [
    "def evaluateQuery(index, corpus, query):\n",
    "    result = ''\n",
    "    for ind in index:\n",
    "        if query in index[ind]:\n",
    "            result = result + corpus[ind]\n",
    "    return result"
   ]
  },
  {
   "cell_type": "markdown",
   "metadata": {},
   "source": [
    "##### b) Create a method called stemQueryTerm which stems and returns a query term."
   ]
  },
  {
   "cell_type": "code",
   "execution_count": null,
   "metadata": {},
   "outputs": [],
   "source": [
    "def stemQueryterm(term):\n",
    "    stem = ''\n",
    "    stemmer = SnowballStemmer('german')\n",
    "    stem = stemmer.stem(term)\n",
    "    return stem"
   ]
  },
  {
   "cell_type": "markdown",
   "metadata": {},
   "source": [
    "##### c) Evaluate the following search queries with the corresponding indexes."
   ]
  },
  {
   "cell_type": "code",
   "execution_count": null,
   "metadata": {},
   "outputs": [],
   "source": [
    "print('Answer 1: The results for the search term augen and the index1 are:\\n {}'.format(evaluateQuery(index1, corpus, 'augen')))\n",
    "print('Answer 2: The results for the search term ohne and the index1 are:\\n {}'.format(evaluateQuery(index1, corpus, 'ohne')))\n",
    "print('Answer 3: The results for the search term ohne and the index2 are:\\n {}'.format(evaluateQuery(index2, corpus, 'ohne')))\n",
    "print('Answer 4: The results for the search term augen and the index3 are:\\n {}'.format(evaluateQuery(index3, corpus, 'augen')))\n",
    "print('Answer 5: The results for the stemmed search term augen and the index3 are:\\n {}'.format(evaluateQuery(index3, corpus, stemQueryterm('augen'))))"
   ]
  },
  {
   "cell_type": "markdown",
   "metadata": {},
   "source": [
    "### Task 03: Ranking"
   ]
  },
  {
   "cell_type": "markdown",
   "metadata": {},
   "source": [
    "##### a) Create a method called calculateScore1, which creates a ranking of the results based on the count of the occurrences of the search term in the document. More occurrences of a search term in the document leads to a higher score in the ranking."
   ]
  },
  {
   "cell_type": "code",
   "execution_count": null,
   "metadata": {},
   "outputs": [],
   "source": [
    "def calculateScore1(index, query):\n",
    "    scores = []\n",
    "    qterms = query.split(' ')\n",
    "    for ind in index:\n",
    "        score = 0\n",
    "        for t in qterms:\n",
    "            for dt in index[ind]:\n",
    "                if t == dt:\n",
    "                    score = score + 1\n",
    "        scores.append(score)\n",
    "    return scores"
   ]
  },
  {
   "cell_type": "markdown",
   "metadata": {},
   "source": [
    "##### b) Create a method called calculateScore2, which creates a ranking of the results based on the position of the occurrences of the search terms in the document. Earlier occurrences of a search term in the document leads to a higher score in the ranking. Maximum score is set to 10.0."
   ]
  },
  {
   "cell_type": "code",
   "execution_count": null,
   "metadata": {},
   "outputs": [],
   "source": [
    "def calculateScore2(index, query):\n",
    "    scores = []\n",
    "    qterms = query.split(' ')\n",
    "    for ind in index:\n",
    "        score = 10.0\n",
    "        for t in qterms:\n",
    "            for pos, dt in enumerate(ind):\n",
    "                if t == dt:\n",
    "                    if pos < score:\n",
    "                        score = pos + 1\n",
    "                    break#\n",
    "        fsc = 10.0 / (score)\n",
    "        scores.append(max(1.0, fsc))\n",
    "    return scores"
   ]
  },
  {
   "cell_type": "markdown",
   "metadata": {},
   "source": [
    "##### c) Use the calculateScore1 function to rank the results for the search term 'alt' with the index3 from Task 01. Probably you need to change the index3 a little bit. So reimplement the index3 function if needed."
   ]
  },
  {
   "cell_type": "code",
   "execution_count": null,
   "metadata": {},
   "outputs": [],
   "source": [
    "from nltk.stem import SnowballStemmer\n",
    "\n",
    "def index3Corpus(corpus):\n",
    "    stemmer = SnowballStemmer('german')\n",
    "    index = {}\n",
    "    pos = 0\n",
    "    for c in corpus:\n",
    "        cindex = list()\n",
    "        terms = c.split(' ')\n",
    "        for t in terms:\n",
    "            tt = re.sub(r'\\W+', '', t).lower()\n",
    "            if tt not in stopwords:\n",
    "                tts = stemmer.stem(tt)\n",
    "                cindex.append(tts)\n",
    "        index[pos] = cindex\n",
    "        pos += 1\n",
    "    return index\n",
    "\n",
    "index3 = index3Corpus(corpus)\n",
    "\n",
    "calculateScore1(index3, 'alt')"
   ]
  },
  {
   "cell_type": "markdown",
   "metadata": {},
   "source": [
    "##### d) Use the calculateScore2 function to rank the results for the search term 'alt' with the index3 from Task 01. Probably you need to change the index3 a little bit. So reimplement the index3 function if needed."
   ]
  }
 ],
 "metadata": {
  "kernelspec": {
   "display_name": "Python 3",
   "language": "python",
   "name": "python3"
  },
  "language_info": {
   "codemirror_mode": {
    "name": "ipython",
    "version": 3
   },
   "file_extension": ".py",
   "mimetype": "text/x-python",
   "name": "python",
   "nbconvert_exporter": "python",
   "pygments_lexer": "ipython3",
   "version": "3.8.6"
  }
 },
 "nbformat": 4,
 "nbformat_minor": 4
}
