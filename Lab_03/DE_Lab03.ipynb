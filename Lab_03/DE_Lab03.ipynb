{
 "cells": [
  {
   "cell_type": "markdown",
   "metadata": {},
   "source": [
    "# Data Engineering: Lab 03\n",
    "---------------"
   ]
  },
  {
   "cell_type": "markdown",
   "metadata": {},
   "source": [
    "### Task 01: Read the headlines of 20min."
   ]
  },
  {
   "cell_type": "markdown",
   "metadata": {},
   "source": [
    "##### Use the libraries urllib.request and  BeautifulSoup to print all headlines of the website http://20min.ch."
   ]
  },
  {
   "cell_type": "code",
   "execution_count": 2,
   "metadata": {},
   "outputs": [
    {
     "name": "stdout",
     "output_type": "stream",
     "text": [
      "TOOD\n"
     ]
    }
   ],
   "source": [
    "import urllib.request\n",
    "from bs4 import BeautifulSoup\n",
    "\n",
    "url = 'http://20min.ch'\n",
    "data = urllib.request.urlopen(url).read()\n",
    "soup = BeautifulSoup(data, \"html.parser\")\n",
    "\n",
    "\n",
    "articles = \"TOOD\"\n",
    "\n",
    "print(articles)"
   ]
  },
  {
   "cell_type": "markdown",
   "metadata": {},
   "source": [
    "### Task 02: Read a Wikipedia Page."
   ]
  },
  {
   "cell_type": "markdown",
   "metadata": {},
   "source": [
    "##### Use the libraries urllib.request and  BeautifulSoup to create csv data of the table from the website https://en.wikipedia.org/wiki/List_of_FIFA_World_Cup_finals."
   ]
  },
  {
   "cell_type": "code",
   "execution_count": 59,
   "metadata": {},
   "outputs": [
    {
     "name": "stdout",
     "output_type": "stream",
     "text": [
      "[['year', 'winners', 'score', 'runners-up', 'venue', 'location', 'attendance']]\n"
     ]
    }
   ],
   "source": [
    "# https://en.wikipedia.org/wiki/List_of_FIFA_World_Cup_finals\n",
    "# This Wikipedia page has a table with data on all of the Fifa World Cup Finals. \n",
    "# Our goal is to use Beautiful Soup to scrape some of this data into a CSV file. \n",
    "# The columns of the CSV should be: \n",
    "# year, \n",
    "# winners,\n",
    "# score,\n",
    "# runners-up, \n",
    "# venue,\n",
    "# location,\n",
    "# and attendance.\n",
    "# Use commas as the delimiter.\n",
    "\n",
    "import urllib.request\n",
    "from bs4 import BeautifulSoup\n",
    "\n",
    "url = 'https://en.wikipedia.org/wiki/List_of_FIFA_World_Cup_finals'\n",
    "data = urllib.request.urlopen(url).read()\n",
    "soup = BeautifulSoup(data, \"html.parser\")\n",
    "\n",
    "table_rows = soup.select(\".wikitable\")[1].select(\"tr\")\n",
    "\n",
    "csv_data = [['year', 'winners', 'score', 'runners-up', 'venue', 'location', 'attendance']]\n",
    "\n",
    "#TODO\n",
    "\n",
    "print(csv_data)"
   ]
  }
 ],
 "metadata": {
  "kernelspec": {
   "display_name": "Python 3",
   "language": "python",
   "name": "python3"
  },
  "language_info": {
   "codemirror_mode": {
    "name": "ipython",
    "version": 3
   },
   "file_extension": ".py",
   "mimetype": "text/x-python",
   "name": "python",
   "nbconvert_exporter": "python",
   "pygments_lexer": "ipython3",
   "version": "3.11.5"
  }
 },
 "nbformat": 4,
 "nbformat_minor": 4
}
