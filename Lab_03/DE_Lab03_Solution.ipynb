{
 "cells": [
  {
   "cell_type": "markdown",
   "metadata": {},
   "source": [
    "# Data Engineering: Lab 03 - Solution\n",
    "---------------"
   ]
  },
  {
   "cell_type": "markdown",
   "metadata": {},
   "source": [
    "### Task 01: Read the headlines of 20min."
   ]
  },
  {
   "cell_type": "markdown",
   "metadata": {},
   "source": [
    "##### Use the libraries urllib.request and  BeautifulSoup to print all headlines of the website http://20min.ch."
   ]
  },
  {
   "cell_type": "code",
   "execution_count": null,
   "metadata": {},
   "outputs": [],
   "source": [
    "import urllib.request\n",
    "from bs4 import BeautifulSoup\n",
    "\n",
    "url = 'http://20min.ch'\n",
    "data = urllib.request.urlopen(url).read()\n",
    "soup = BeautifulSoup(data, \"html.parser\")\n",
    "\n",
    "\n",
    "articles = soup.select(\"article\")\n",
    "\n",
    "mydivs = soup.find_all(\"span\", {\"class\": \"sc-rnw73m-7 ljalBg\"})\n",
    "\n",
    "for div in mydivs:\n",
    "    print(div.text)"
   ]
  },
  {
   "cell_type": "markdown",
   "metadata": {},
   "source": [
    "### Task 02: Read a Wikipedia Page."
   ]
  },
  {
   "cell_type": "markdown",
   "metadata": {},
   "source": [
    "##### Use the libraries urllib.request and  BeautifulSoup to create csv data of the table from the website https://en.wikipedia.org/wiki/List_of_FIFA_World_Cup_finals."
   ]
  },
  {
   "cell_type": "code",
   "execution_count": null,
   "metadata": {},
   "outputs": [],
   "source": [
    "# https://en.wikipedia.org/wiki/List_of_FIFA_World_Cup_finals\n",
    "# This Wikipedia page has a table with data on all of the Fifa World Cup Finals. \n",
    "# Our goal is to use Beautiful Soup to scrape some of this data into a CSV file. \n",
    "# The columns of the CSV should be: \n",
    "# year, \n",
    "# winners,\n",
    "# score,\n",
    "# runners-up, \n",
    "# venue,\n",
    "# location,\n",
    "# and attendance.\n",
    "# Use commas as the delimiter.\n",
    "\n",
    "import urllib.request\n",
    "from bs4 import BeautifulSoup\n",
    "\n",
    "url = 'https://en.wikipedia.org/wiki/List_of_FIFA_World_Cup_finals'\n",
    "data = urllib.request.urlopen(url).read()\n",
    "soup = BeautifulSoup(data, \"html.parser\")\n",
    "\n",
    "table_rows = soup.select(\".wikitable\")[1].select(\"tr\")\n",
    "\n",
    "csv_data = [['year', 'winners', 'score', 'runners-up', 'venue', 'location', 'attendance']]\n",
    "for row in table_rows[1:]:\n",
    "    correct = False\n",
    "    tds = row.select('td')\n",
    "    year = row.select('th')[0].text.strip()\n",
    "    if year.isdigit() and len(year) == 4 and int(year) < 2024:\n",
    "        correct = True\n",
    "    if correct:\n",
    "        winners = tds[0].text.strip()\n",
    "        score = tds[1].text.strip()\n",
    "        runners_up = tds[2].text.strip()\n",
    "        venue = tds[3].text.strip()\n",
    "        location = tds[4].text.strip()\n",
    "        attendance = tds[5].text.strip()\n",
    "    if correct:\n",
    "        csv_data.append([year, winners, runners_up, venue, location, attendance])\n",
    "\n",
    "print(csv_data)"
   ]
  }
 ],
 "metadata": {
  "kernelspec": {
   "display_name": "Python 3",
   "language": "python",
   "name": "python3"
  },
  "language_info": {
   "codemirror_mode": {
    "name": "ipython",
    "version": 3
   },
   "file_extension": ".py",
   "mimetype": "text/x-python",
   "name": "python",
   "nbconvert_exporter": "python",
   "pygments_lexer": "ipython3",
   "version": "3.8.6"
  }
 },
 "nbformat": 4,
 "nbformat_minor": 4
}
