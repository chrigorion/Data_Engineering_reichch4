{
 "cells": [
  {
   "cell_type": "markdown",
   "metadata": {},
   "source": [
    "# Data Engineering: Graded Lab 01\n",
    "---------------"
   ]
  },
  {
   "cell_type": "markdown",
   "metadata": {},
   "source": [
    "#### Grading\n",
    "For this graded lab you can get a total of 20 points. These 20 points count 10% of your final grade for the course.\n",
    "\n",
    "#### Start\n",
    "Start of the Graded Lab 01 is **Tuesday, October 29th at 08:00**.\n",
    "\n",
    "#### Deadline\n",
    "Deadline for the submission of the Graded Lab 01 is **Tuesday, November 12th at 23:59**.\n",
    "\n",
    "#### Note\n",
    "Check each result carefully. Use data filter, cleaning, and transformation methods wherever needed. The data can sometimes be really messy and have hidden issues.\n",
    "\n",
    "#### Submission\n",
    "You are allowed to submit the solution in groups of **two or three** students.\n",
    "Submit your GradedLab01.ipynb file renamed to FirstnameStudent01LastnameStudent01_FirstnameStudent02LastnameStudent02_FirstnameStudent03LastnameStudent03.ipynb in moodle.   \n",
    "Please submit a runnable python jupyter notebook file.\n",
    "All other submissions will be rejected and graded with 0 points."
   ]
  },
  {
   "cell_type": "markdown",
   "metadata": {},
   "source": [
    "#### Task 01: Structured Data [8 points].    \n",
    "The imdb.csv file contains a dataset extracted from IMDB with several attributes. For example, the title, plot, and the language of the movies. Read the imdb.csv file in a pandas dataframe and try to answer the following questions."
   ]
  },
  {
   "cell_type": "code",
   "execution_count": 1,
   "metadata": {},
   "outputs": [
    {
     "data": {
      "text/html": [
       "<div>\n",
       "<style scoped>\n",
       "    .dataframe tbody tr th:only-of-type {\n",
       "        vertical-align: middle;\n",
       "    }\n",
       "\n",
       "    .dataframe tbody tr th {\n",
       "        vertical-align: top;\n",
       "    }\n",
       "\n",
       "    .dataframe thead th {\n",
       "        text-align: right;\n",
       "    }\n",
       "</style>\n",
       "<table border=\"1\" class=\"dataframe\">\n",
       "  <thead>\n",
       "    <tr style=\"text-align: right;\">\n",
       "      <th></th>\n",
       "      <th>id</th>\n",
       "      <th>kind</th>\n",
       "      <th>title</th>\n",
       "      <th>languages</th>\n",
       "      <th>genres</th>\n",
       "      <th>rating</th>\n",
       "      <th>director</th>\n",
       "      <th>cumulative worldwide gross</th>\n",
       "      <th>opening weekend united states</th>\n",
       "      <th>budget</th>\n",
       "      <th>plot</th>\n",
       "    </tr>\n",
       "  </thead>\n",
       "  <tbody>\n",
       "    <tr>\n",
       "      <th>0</th>\n",
       "      <td>111161</td>\n",
       "      <td>movie</td>\n",
       "      <td>The Shawshank Redemption</td>\n",
       "      <td>['English']</td>\n",
       "      <td>['Drama']</td>\n",
       "      <td>9.3</td>\n",
       "      <td>Frank Darabont</td>\n",
       "      <td>$58,500,000</td>\n",
       "      <td>$727,326, 20 Nov 1994</td>\n",
       "      <td>$25,000,000 (estimated)</td>\n",
       "      <td>Chronicles the experiences of a formerly succe...</td>\n",
       "    </tr>\n",
       "    <tr>\n",
       "      <th>1</th>\n",
       "      <td>68646</td>\n",
       "      <td>movie</td>\n",
       "      <td>The Godfather</td>\n",
       "      <td>['English', 'Italian', 'Latin']</td>\n",
       "      <td>['Crime', 'Drama']</td>\n",
       "      <td>9.2</td>\n",
       "      <td>Francis Ford Coppola</td>\n",
       "      <td>$245,066,411</td>\n",
       "      <td>$223,758, 04 Apr 1997</td>\n",
       "      <td>$6,000,000 (estimated)</td>\n",
       "      <td>The Godfather \"Don\" Vito Corleone is the head ...</td>\n",
       "    </tr>\n",
       "    <tr>\n",
       "      <th>2</th>\n",
       "      <td>468569</td>\n",
       "      <td>movie</td>\n",
       "      <td>The Dark Knight</td>\n",
       "      <td>['English', 'Mandarin']</td>\n",
       "      <td>['Action', 'Crime', 'Drama', 'Thriller']</td>\n",
       "      <td>9.1</td>\n",
       "      <td>Christopher Nolan</td>\n",
       "      <td>$1,004,558,444, 19 Jul 2012</td>\n",
       "      <td>$158,411,483, 20 Jul 2008</td>\n",
       "      <td>$185,000,000 (estimated)</td>\n",
       "      <td>Set within a year after the events of Batman B...</td>\n",
       "    </tr>\n",
       "    <tr>\n",
       "      <th>3</th>\n",
       "      <td>108052</td>\n",
       "      <td>movie</td>\n",
       "      <td>Schindler's List</td>\n",
       "      <td>['English', 'Hebrew', 'German', 'Polish', 'Lat...</td>\n",
       "      <td>['Biography', 'Drama', 'History']</td>\n",
       "      <td>9.0</td>\n",
       "      <td>Steven Spielberg</td>\n",
       "      <td>$221,000,000</td>\n",
       "      <td>$566,760, 09 Dec 2018</td>\n",
       "      <td>$22,000,000 (estimated)</td>\n",
       "      <td>Oskar Schindler is a vain and greedy German bu...</td>\n",
       "    </tr>\n",
       "    <tr>\n",
       "      <th>4</th>\n",
       "      <td>110912</td>\n",
       "      <td>movie</td>\n",
       "      <td>Pulp Fiction</td>\n",
       "      <td>['English', 'Spanish', 'French']</td>\n",
       "      <td>['Crime', 'Drama']</td>\n",
       "      <td>8.9</td>\n",
       "      <td>Quentin Tarantino</td>\n",
       "      <td>$213,928,762</td>\n",
       "      <td>$9,311,882, 14 Oct 1994</td>\n",
       "      <td>$8,000,000 (estimated)</td>\n",
       "      <td>Jules Winnfield (Samuel L. Jackson) and Vincen...</td>\n",
       "    </tr>\n",
       "  </tbody>\n",
       "</table>\n",
       "</div>"
      ],
      "text/plain": [
       "       id   kind                     title  \\\n",
       "0  111161  movie  The Shawshank Redemption   \n",
       "1   68646  movie             The Godfather   \n",
       "2  468569  movie           The Dark Knight   \n",
       "3  108052  movie          Schindler's List   \n",
       "4  110912  movie              Pulp Fiction   \n",
       "\n",
       "                                           languages  \\\n",
       "0                                        ['English']   \n",
       "1                    ['English', 'Italian', 'Latin']   \n",
       "2                            ['English', 'Mandarin']   \n",
       "3  ['English', 'Hebrew', 'German', 'Polish', 'Lat...   \n",
       "4                   ['English', 'Spanish', 'French']   \n",
       "\n",
       "                                     genres  rating              director  \\\n",
       "0                                 ['Drama']     9.3        Frank Darabont   \n",
       "1                        ['Crime', 'Drama']     9.2  Francis Ford Coppola   \n",
       "2  ['Action', 'Crime', 'Drama', 'Thriller']     9.1     Christopher Nolan   \n",
       "3         ['Biography', 'Drama', 'History']     9.0      Steven Spielberg   \n",
       "4                        ['Crime', 'Drama']     8.9     Quentin Tarantino   \n",
       "\n",
       "    cumulative worldwide gross opening weekend united states  \\\n",
       "0                  $58,500,000         $727,326, 20 Nov 1994   \n",
       "1                 $245,066,411         $223,758, 04 Apr 1997   \n",
       "2  $1,004,558,444, 19 Jul 2012     $158,411,483, 20 Jul 2008   \n",
       "3                 $221,000,000         $566,760, 09 Dec 2018   \n",
       "4                 $213,928,762       $9,311,882, 14 Oct 1994   \n",
       "\n",
       "                     budget                                               plot  \n",
       "0   $25,000,000 (estimated)  Chronicles the experiences of a formerly succe...  \n",
       "1    $6,000,000 (estimated)  The Godfather \"Don\" Vito Corleone is the head ...  \n",
       "2  $185,000,000 (estimated)  Set within a year after the events of Batman B...  \n",
       "3   $22,000,000 (estimated)  Oskar Schindler is a vain and greedy German bu...  \n",
       "4    $8,000,000 (estimated)  Jules Winnfield (Samuel L. Jackson) and Vincen...  "
      ]
     },
     "execution_count": 1,
     "metadata": {},
     "output_type": "execute_result"
    }
   ],
   "source": [
    "import pandas as pd\n",
    "\n",
    "imdb = pd.read_csv('imdb.csv')\n",
    "imdb.head()\n"
   ]
  },
  {
   "cell_type": "code",
   "execution_count": 2,
   "metadata": {},
   "outputs": [
    {
     "data": {
      "text/html": [
       "<div>\n",
       "<style scoped>\n",
       "    .dataframe tbody tr th:only-of-type {\n",
       "        vertical-align: middle;\n",
       "    }\n",
       "\n",
       "    .dataframe tbody tr th {\n",
       "        vertical-align: top;\n",
       "    }\n",
       "\n",
       "    .dataframe thead th {\n",
       "        text-align: right;\n",
       "    }\n",
       "</style>\n",
       "<table border=\"1\" class=\"dataframe\">\n",
       "  <thead>\n",
       "    <tr style=\"text-align: right;\">\n",
       "      <th></th>\n",
       "      <th>id</th>\n",
       "      <th>kind</th>\n",
       "      <th>title</th>\n",
       "      <th>languages</th>\n",
       "      <th>genres</th>\n",
       "      <th>rating</th>\n",
       "      <th>director</th>\n",
       "      <th>cumulative worldwide gross</th>\n",
       "      <th>opening weekend united states</th>\n",
       "      <th>budget</th>\n",
       "      <th>plot</th>\n",
       "    </tr>\n",
       "  </thead>\n",
       "  <tbody>\n",
       "    <tr>\n",
       "      <th>154</th>\n",
       "      <td>2085059</td>\n",
       "      <td>tv series</td>\n",
       "      <td>Black Mirror</td>\n",
       "      <td>['English']</td>\n",
       "      <td>['Drama', 'Mystery', 'Sci-Fi', 'Thriller']</td>\n",
       "      <td>8.8</td>\n",
       "      <td>NaN</td>\n",
       "      <td>000000000</td>\n",
       "      <td>000000000</td>\n",
       "      <td>000000000</td>\n",
       "      <td>[\"An anthology series exploring a twisted, hig...</td>\n",
       "    </tr>\n",
       "    <tr>\n",
       "      <th>155</th>\n",
       "      <td>2707408</td>\n",
       "      <td>tv series</td>\n",
       "      <td>Narcos</td>\n",
       "      <td>['English', 'Spanish']</td>\n",
       "      <td>['Biography', 'Crime', 'Drama', 'Thriller']</td>\n",
       "      <td>8.8</td>\n",
       "      <td>NaN</td>\n",
       "      <td>000000000</td>\n",
       "      <td>000000000</td>\n",
       "      <td>000000000</td>\n",
       "      <td>['A chronicled look at the criminal exploits o...</td>\n",
       "    </tr>\n",
       "    <tr>\n",
       "      <th>156</th>\n",
       "      <td>98936</td>\n",
       "      <td>tv series</td>\n",
       "      <td>Twin Peaks</td>\n",
       "      <td>['English', 'Icelandic', 'Afrikaans', 'Norwegi...</td>\n",
       "      <td>['Crime', 'Drama', 'Mystery', 'Thriller']</td>\n",
       "      <td>8.8</td>\n",
       "      <td>NaN</td>\n",
       "      <td>000000000</td>\n",
       "      <td>000000000</td>\n",
       "      <td>000000000</td>\n",
       "      <td>['An idiosyncratic FBI agent investigates the ...</td>\n",
       "    </tr>\n",
       "    <tr>\n",
       "      <th>157</th>\n",
       "      <td>4934214</td>\n",
       "      <td>tv series</td>\n",
       "      <td>Taskmaster</td>\n",
       "      <td>['English']</td>\n",
       "      <td>['Comedy', 'Game-Show']</td>\n",
       "      <td>9.0</td>\n",
       "      <td>NaN</td>\n",
       "      <td>000000000</td>\n",
       "      <td>000000000</td>\n",
       "      <td>000000000</td>\n",
       "      <td>['Five comedians are set tasks challenging the...</td>\n",
       "    </tr>\n",
       "    <tr>\n",
       "      <th>158</th>\n",
       "      <td>200276</td>\n",
       "      <td>tv series</td>\n",
       "      <td>The West Wing</td>\n",
       "      <td>['English']</td>\n",
       "      <td>['Drama']</td>\n",
       "      <td>8.9</td>\n",
       "      <td>NaN</td>\n",
       "      <td>000000000</td>\n",
       "      <td>000000000</td>\n",
       "      <td>000000000</td>\n",
       "      <td>['Inside the lives of staffers in the West Win...</td>\n",
       "    </tr>\n",
       "  </tbody>\n",
       "</table>\n",
       "</div>"
      ],
      "text/plain": [
       "          id       kind          title  \\\n",
       "154  2085059  tv series   Black Mirror   \n",
       "155  2707408  tv series         Narcos   \n",
       "156    98936  tv series     Twin Peaks   \n",
       "157  4934214  tv series     Taskmaster   \n",
       "158   200276  tv series  The West Wing   \n",
       "\n",
       "                                             languages  \\\n",
       "154                                        ['English']   \n",
       "155                             ['English', 'Spanish']   \n",
       "156  ['English', 'Icelandic', 'Afrikaans', 'Norwegi...   \n",
       "157                                        ['English']   \n",
       "158                                        ['English']   \n",
       "\n",
       "                                          genres  rating director  \\\n",
       "154   ['Drama', 'Mystery', 'Sci-Fi', 'Thriller']     8.8      NaN   \n",
       "155  ['Biography', 'Crime', 'Drama', 'Thriller']     8.8      NaN   \n",
       "156    ['Crime', 'Drama', 'Mystery', 'Thriller']     8.8      NaN   \n",
       "157                      ['Comedy', 'Game-Show']     9.0      NaN   \n",
       "158                                    ['Drama']     8.9      NaN   \n",
       "\n",
       "    cumulative worldwide gross opening weekend united states     budget  \\\n",
       "154                  000000000                     000000000  000000000   \n",
       "155                  000000000                     000000000  000000000   \n",
       "156                  000000000                     000000000  000000000   \n",
       "157                  000000000                     000000000  000000000   \n",
       "158                  000000000                     000000000  000000000   \n",
       "\n",
       "                                                  plot  \n",
       "154  [\"An anthology series exploring a twisted, hig...  \n",
       "155  ['A chronicled look at the criminal exploits o...  \n",
       "156  ['An idiosyncratic FBI agent investigates the ...  \n",
       "157  ['Five comedians are set tasks challenging the...  \n",
       "158  ['Inside the lives of staffers in the West Win...  "
      ]
     },
     "execution_count": 2,
     "metadata": {},
     "output_type": "execute_result"
    }
   ],
   "source": [
    "imdb.tail()"
   ]
  },
  {
   "cell_type": "code",
   "execution_count": 3,
   "metadata": {},
   "outputs": [
    {
     "name": "stdout",
     "output_type": "stream",
     "text": [
      "<class 'pandas.core.frame.DataFrame'>\n",
      "RangeIndex: 159 entries, 0 to 158\n",
      "Data columns (total 11 columns):\n",
      " #   Column                         Non-Null Count  Dtype  \n",
      "---  ------                         --------------  -----  \n",
      " 0   id                             159 non-null    int64  \n",
      " 1   kind                           159 non-null    object \n",
      " 2   title                          159 non-null    object \n",
      " 3   languages                      159 non-null    object \n",
      " 4   genres                         159 non-null    object \n",
      " 5   rating                         159 non-null    float64\n",
      " 6   director                       97 non-null     object \n",
      " 7   cumulative worldwide gross     159 non-null    object \n",
      " 8   opening weekend united states  159 non-null    object \n",
      " 9   budget                         159 non-null    object \n",
      " 10  plot                           159 non-null    object \n",
      "dtypes: float64(1), int64(1), object(9)\n",
      "memory usage: 13.8+ KB\n"
     ]
    },
    {
     "data": {
      "text/plain": [
       "id                               159\n",
       "kind                               3\n",
       "title                            158\n",
       "languages                         53\n",
       "genres                            83\n",
       "rating                            16\n",
       "director                          65\n",
       "cumulative worldwide gross        98\n",
       "opening weekend united states     98\n",
       "budget                            66\n",
       "plot                             159\n",
       "dtype: int64"
      ]
     },
     "execution_count": 3,
     "metadata": {},
     "output_type": "execute_result"
    }
   ],
   "source": [
    "imdb.info()\n",
    "imdb.nunique()"
   ]
  },
  {
   "cell_type": "code",
   "execution_count": 4,
   "metadata": {},
   "outputs": [
    {
     "data": {
      "text/plain": [
       "id                                0\n",
       "kind                              0\n",
       "title                             0\n",
       "languages                         0\n",
       "genres                            0\n",
       "rating                            0\n",
       "director                         62\n",
       "cumulative worldwide gross        0\n",
       "opening weekend united states     0\n",
       "budget                            0\n",
       "plot                              0\n",
       "dtype: int64"
      ]
     },
     "execution_count": 4,
     "metadata": {},
     "output_type": "execute_result"
    }
   ],
   "source": [
    "imdb.isnull().sum()"
   ]
  },
  {
   "cell_type": "markdown",
   "metadata": {},
   "source": [
    "- **62 mal budget, opening weekend united states und cumulative worldwide gross 000000**\n",
    "- **title alle 1 mal ausser Fargo 2 mal**\n",
    "- **62 kein direktor also NaN**"
   ]
  },
  {
   "cell_type": "markdown",
   "metadata": {},
   "source": [
    "##### __(a)  What is the min, max, and the average value of the attribute 'rating' for all movies? [1 point].__ "
   ]
  },
  {
   "cell_type": "code",
   "execution_count": 5,
   "metadata": {},
   "outputs": [
    {
     "name": "stdout",
     "output_type": "stream",
     "text": [
      "Min value rating is 8.1\n",
      "Max value rating is 9.6\n",
      "Mean value rating is 8.629559748427672\n"
     ]
    }
   ],
   "source": [
    "#Order rows by values of a column (high to low)\n",
    "imdb.sort_values('rating', ascending=False)\n",
    "\n",
    "#min rating \n",
    "min_rating = imdb['rating'].min()\n",
    "print(f\"Min value rating is {min_rating}\")\n",
    "\n",
    "\n",
    "max_rating = imdb['rating'].max()\n",
    "print(f\"Max value rating is {max_rating}\")\n",
    "\n",
    "mean_rating = imdb['rating'].mean()\n",
    "print(f\"Mean value rating is {mean_rating}\")"
   ]
  },
  {
   "cell_type": "markdown",
   "metadata": {},
   "source": [
    "##### __(b) What is the min, max, and the average value of the attribute 'cumulative worldwide gross' for all movies? [1 point].__ "
   ]
  },
  {
   "cell_type": "code",
   "execution_count": 6,
   "metadata": {},
   "outputs": [
    {
     "name": "stdout",
     "output_type": "stream",
     "text": [
      "Min value of cumulative worldwide gross is 0\n",
      "Max value of cumulative worldwide gross is 2797800564\n",
      "Mean value of cumulative worldwide gross is 238223230.15\n"
     ]
    }
   ],
   "source": [
    "#Order rows by values of a column (high to low)\n",
    "imdb.sort_values('cumulative worldwide gross', ascending=False)\n",
    "\n",
    "# Ensure the column is of type string before using .str methods\n",
    "imdb['cumulative worldwide gross'] = imdb['cumulative worldwide gross'].astype(str)\n",
    "\n",
    "# Step 1: Remove dollar signs and commas\n",
    "imdb['cumulative worldwide gross'] = imdb['cumulative worldwide gross'].str.replace('[$,]', '', regex=True)\n",
    "\n",
    "# Step 2: Remove any trailing date information by extracting only the numeric part\n",
    "imdb['cumulative worldwide gross'] = imdb['cumulative worldwide gross'].str.extract(r'(\\d+)')[0]\n",
    "\n",
    "# Step 3: Convert the column to numeric\n",
    "imdb['cumulative worldwide gross'] = pd.to_numeric(imdb['cumulative worldwide gross'])\n",
    "\n",
    "# Calculate minimum, maximum, and mean values\n",
    "min_gross = imdb['cumulative worldwide gross'].min()\n",
    "max_gross = imdb['cumulative worldwide gross'].max()\n",
    "mean_gross = imdb['cumulative worldwide gross'].mean()\n",
    "\n",
    "# Print the results\n",
    "print(f\"Min value of cumulative worldwide gross is {min_gross}\")\n",
    "print(f\"Max value of cumulative worldwide gross is {max_gross}\")\n",
    "print(f\"Mean value of cumulative worldwide gross is {mean_gross:.2f}\")\n"
   ]
  },
  {
   "cell_type": "markdown",
   "metadata": {},
   "source": [
    "##### __(c) What is the min, max, and the average value of the attribute 'cumulative worldwide gross' grouped by genre of the movies? [1 point].__ "
   ]
  },
  {
   "cell_type": "code",
   "execution_count": 7,
   "metadata": {},
   "outputs": [
    {
     "name": "stdout",
     "output_type": "stream",
     "text": [
      "         genres        min         max          mean  count\n",
      "0        Action          0  2797800564  4.655257e+08     34\n",
      "1     Adventure          0  2797800564  5.123588e+08     42\n",
      "2     Animation          0  1068879522  3.958353e+08     25\n",
      "3     Biography          0   392000694  1.538608e+08     14\n",
      "4        Comedy          0  1068879522  2.447827e+08     37\n",
      "5         Crime          0  1084939099  1.824480e+08     39\n",
      "6   Documentary          0           0  0.000000e+00     18\n",
      "7         Drama          0  2797800564  2.290571e+08     92\n",
      "8        Family          0  1068879522  5.497713e+08     18\n",
      "9       Fantasy          0  1068879522  3.426368e+08     24\n",
      "10    Game-Show          0           0  0.000000e+00      1\n",
      "11      History          0   400176459  7.840920e+07     13\n",
      "12       Horror          0   441306145  8.982547e+07      5\n",
      "13        Music          0   807082196  2.946962e+08      4\n",
      "14      Musical  424967620   968483777  6.325005e+08      3\n",
      "15      Mystery          0   807082196  1.406539e+08     23\n",
      "16         News          0           0  0.000000e+00      1\n",
      "17   Reality-TV          0           0  0.000000e+00      2\n",
      "18      Romance          0   677945399  2.344835e+08     10\n",
      "19       Sci-Fi          0  2797800564  4.410689e+08     26\n",
      "20        Sport          0   225000000  1.164948e+08      4\n",
      "21    Talk-Show          0           0  0.000000e+00      1\n",
      "22     Thriller          0  1074251311  2.154442e+08     39\n",
      "23          War          0   481840909  1.213808e+08      9\n",
      "24      Western  159157447   425368238  3.362419e+08      3\n"
     ]
    }
   ],
   "source": [
    "\n",
    "\n",
    "# Step 2: Split the 'genres' column into a list of genres\n",
    "imdb['genres'] = imdb['genres'].apply(eval)  # Convert string representation of lists to actual lists\n",
    "\n",
    "# Step 3: Explode the 'genres' column to have one genre per row\n",
    "imdb_exploded = imdb.explode('genres')\n",
    "\n",
    "# Step 4: Group by 'genres', calculate min, max, mean, and count the number of movies\n",
    "genre_grouped_stats = imdb_exploded.groupby('genres').agg(\n",
    "    min=('cumulative worldwide gross', 'min'),\n",
    "    max=('cumulative worldwide gross', 'max'),\n",
    "    mean=('cumulative worldwide gross', 'mean'),\n",
    "    count=('cumulative worldwide gross', 'size')\n",
    ").reset_index()\n",
    "\n",
    "# Display the results\n",
    "print(genre_grouped_stats)\n"
   ]
  },
  {
   "cell_type": "markdown",
   "metadata": {},
   "source": [
    "##### __(d) What is the profit (defined as cumulative worldwide gross - budget) of each movie? [1 point].__ "
   ]
  },
  {
   "cell_type": "code",
   "execution_count": 8,
   "metadata": {},
   "outputs": [
    {
     "name": "stdout",
     "output_type": "stream",
     "text": [
      "                     title      profit\n",
      "39       Avengers: Endgame  2441800564\n",
      "31  Avengers: Infinity War  1727709917\n",
      "34                   Joker  1019251311\n",
      "61           Jurassic Park   966153882\n",
      "19           The Lion King   923483777\n",
      "41             Toy Story 3   878879522\n",
      "63            Finding Nemo   842743261\n",
      "33   The Dark Knight Rises   834939099\n",
      "2          The Dark Knight   819558444\n",
      "15               Star Wars   764398007\n"
     ]
    }
   ],
   "source": [
    "\n",
    "\n",
    "# Step 1: Remove \"(estimated)\" from 'budget'\n",
    "imdb['budget'] = imdb['budget'].astype(str)\n",
    "imdb['budget'] = imdb['budget'].str.replace(r'\\(estimated\\)', '', regex=True)\n",
    "\n",
    "# Step 2: Remove dollar signs and commas from 'budget' and convert to numeric\n",
    "imdb['budget'] = imdb['budget'].str.replace('[$,]', '', regex=True)\n",
    "imdb['budget'] = pd.to_numeric(imdb['budget'], errors='coerce')\n",
    "\n",
    "# Step 4: Replace 0 values in 'budget' with NaN to handle them as missing values\n",
    "imdb['budget'] = imdb['budget'].replace(0, pd.NA)\n",
    "\n",
    "# Step 5: Calculate the profit as cumulative worldwide gross - budget\n",
    "imdb['profit'] = imdb['cumulative worldwide gross'] - imdb['budget']\n",
    "\n",
    "# Step 6: Sort by profit in descending order\n",
    "imdb_sorted = imdb.sort_values(by='profit', ascending=False)\n",
    "\n",
    "# Step 7: Display the top 10 films with the highest profit\n",
    "print(imdb_sorted[['title', 'profit']].head(10))\n"
   ]
  },
  {
   "cell_type": "markdown",
   "metadata": {},
   "source": [
    "##### __(e)  What is the min, max, and the average value of the atttribute 'opening weekend united states' per month? [4 points].__ "
   ]
  },
  {
   "cell_type": "code",
   "execution_count": 11,
   "metadata": {},
   "outputs": [
    {
     "name": "stdout",
     "output_type": "stream",
     "text": [
      "    month         min          max          mean\n",
      "0     1.0     15172.0   17754905.0  7.363771e+06\n",
      "1     2.0  13766814.0   41062440.0  3.024530e+07\n",
      "2     3.0    235488.0   88411916.0  2.360451e+07\n",
      "3     4.0     12562.0  357115007.0  1.102430e+08\n",
      "4     5.0  34819017.0   68108790.0  5.146390e+07\n",
      "5     6.0    340456.0  110307189.0  3.929574e+07\n",
      "6     7.0    137301.0  160887295.0  4.199736e+07\n",
      "7     8.0    645363.0   26681262.0  1.709731e+07\n",
      "8     9.0    212440.0   20817053.0  7.305613e+06\n",
      "9    10.0     64770.0   96202337.0  1.930041e+07\n",
      "10   11.0     99761.0   70467623.0  1.830448e+07\n",
      "11   12.0    179953.0   35363376.0  1.287903e+07\n"
     ]
    }
   ],
   "source": [
    "import pandas as pd\n",
    "import re\n",
    "\n",
    "# Assuming 'imdb' is your full DataFrame with 159 rows\n",
    "# Load the full 'opening weekend united states' column for processing\n",
    "# The following line should be commented or replaced with your actual data load\n",
    "# imdb = pd.read_csv('your_imdb_data.csv')\n",
    "\n",
    "# Function to extract the values and date components\n",
    "def extract_data(value):\n",
    "    # Extract dollar amount using regex\n",
    "    amount = re.search(r'\\$([\\d,]+)', value)\n",
    "    amount = int(amount.group(1).replace(',', '')) if amount else 0\n",
    "\n",
    "    # Extract date using regex\n",
    "    date = re.search(r'(\\d{2} \\w{3} \\d{4})', value)\n",
    "    date = pd.to_datetime(date.group(0)) if date else None\n",
    "\n",
    "    return amount, date\n",
    "\n",
    "# Apply the extraction function and create new columns\n",
    "imdb[['amount', 'date']] = imdb['opening weekend united states'].apply(lambda x: pd.Series(extract_data(x)))\n",
    "\n",
    "# Extract month from the date\n",
    "imdb['month'] = imdb['date'].dt.month\n",
    "\n",
    "# Group by month and calculate min, max, and average\n",
    "result = imdb.groupby('month')['amount'].agg(['min', 'max', 'mean']).reset_index()\n",
    "\n",
    "\n",
    "print(result)\n"
   ]
  },
  {
   "cell_type": "markdown",
   "metadata": {},
   "source": [
    "#### Task 02: Unstructured Data [12 points]. \n",
    "We again use the imdb.csv file from Task 01. In this task we mainly use the content of the attribute 'plot' for the implementation of a retrieval system."
   ]
  },
  {
   "cell_type": "markdown",
   "metadata": {},
   "source": [
    "##### __(a)  Read the files imdb.csv and imdb2.csv in a dataframe called imdb. Add a column which is called 'plotterms' to each item. The new column should contain all terms (lower-case and cleaned from special characters) from the plot attribute which are not contained in the stopwords_english.txt file. [2 points]__ "
   ]
  },
  {
   "cell_type": "code",
   "execution_count": null,
   "metadata": {},
   "outputs": [],
   "source": []
  },
  {
   "cell_type": "markdown",
   "metadata": {},
   "source": [
    "##### __(b)  Create an inverted index for the terms in the 'plotterms' column. Use a datastructure of your choice for the implementation [2 points]__ "
   ]
  },
  {
   "cell_type": "code",
   "execution_count": null,
   "metadata": {},
   "outputs": [],
   "source": []
  },
  {
   "cell_type": "markdown",
   "metadata": {},
   "source": [
    "##### __(c) Take the inverted index and create the posting list for the query 'american'. Return the posting list as well as the top5 items scored by the rating attribute. [2 points]__ "
   ]
  },
  {
   "cell_type": "code",
   "execution_count": null,
   "metadata": {},
   "outputs": [],
   "source": []
  },
  {
   "cell_type": "markdown",
   "metadata": {},
   "source": [
    "##### __(d) Extend your index to be able to rank the items by the occurrence of search terms in the plotterms. Execute the query 'american' and 'dream' (the term 'american' as well as the term 'dream' should be contained in the plot) again and print the resulting top5 items.  [2 points]__"
   ]
  },
  {
   "cell_type": "code",
   "execution_count": null,
   "metadata": {},
   "outputs": [],
   "source": []
  },
  {
   "cell_type": "markdown",
   "metadata": {},
   "source": [
    "##### __(e) Extend your index to be able to rank the items by the position of the search terms in the plotterms. Execute the query 'american' and 'dream' (the term 'american' as well as the term 'dream' should be contained in the plot) again and print the resulting top5 items.  [2 points]__"
   ]
  },
  {
   "cell_type": "code",
   "execution_count": null,
   "metadata": {},
   "outputs": [],
   "source": []
  },
  {
   "cell_type": "markdown",
   "metadata": {},
   "source": [
    "##### __(f) Extend your index to be able to rank the items by a value of your choice. Explain why you have chosen this value. Execute the query 'american' and 'dream' (the term 'american' as well as the term 'dream' should be contained in the plot) again and print the resulting top5 items.  [2 points]__"
   ]
  },
  {
   "cell_type": "code",
   "execution_count": null,
   "metadata": {},
   "outputs": [],
   "source": []
  }
 ],
 "metadata": {
  "kernelspec": {
   "display_name": ".venv",
   "language": "python",
   "name": "python3"
  },
  "language_info": {
   "codemirror_mode": {
    "name": "ipython",
    "version": 3
   },
   "file_extension": ".py",
   "mimetype": "text/x-python",
   "name": "python",
   "nbconvert_exporter": "python",
   "pygments_lexer": "ipython3",
   "version": "3.11.5"
  }
 },
 "nbformat": 4,
 "nbformat_minor": 4
}
