{
 "cells": [
  {
   "cell_type": "markdown",
   "metadata": {},
   "source": [
    "# Data Engineering: Graded Lab 01\n",
    "---------------"
   ]
  },
  {
   "cell_type": "markdown",
   "metadata": {},
   "source": [
    "#### Grading\n",
    "For this graded lab you can get a total of 20 points. These 20 points count 10% of your final grade for the course.\n",
    "\n",
    "#### Start\n",
    "Start of the Graded Lab 01 is **Tuesday, October 29th at 08:00**.\n",
    "\n",
    "#### Deadline\n",
    "Deadline for the submission of the Graded Lab 01 is **Tuesday, November 12th at 23:59**.\n",
    "\n",
    "#### Note\n",
    "Check each result carefully. Use data filter, cleaning, and transformation methods wherever needed. The data can sometimes be really messy and have hidden issues.\n",
    "\n",
    "#### Submission\n",
    "You are allowed to submit the solution in groups of **two or three** students.\n",
    "Submit your GradedLab01.ipynb file renamed to FirstnameStudent01LastnameStudent01_FirstnameStudent02LastnameStudent02_FirstnameStudent03LastnameStudent03.ipynb in moodle.   \n",
    "Please submit a runnable python jupyter notebook file.\n",
    "All other submissions will be rejected and graded with 0 points."
   ]
  },
  {
   "cell_type": "markdown",
   "metadata": {},
   "source": [
    "#### Task 01: Structured Data [8 points].    \n",
    "The imdb.csv file contains a dataset extracted from IMDB with several attributes. For example, the title, plot, and the language of the movies. Read the imdb.csv file in a pandas dataframe and try to answer the following questions."
   ]
  },
  {
   "cell_type": "code",
   "execution_count": 2,
   "metadata": {},
   "outputs": [
    {
     "data": {
      "text/html": [
       "<div>\n",
       "<style scoped>\n",
       "    .dataframe tbody tr th:only-of-type {\n",
       "        vertical-align: middle;\n",
       "    }\n",
       "\n",
       "    .dataframe tbody tr th {\n",
       "        vertical-align: top;\n",
       "    }\n",
       "\n",
       "    .dataframe thead th {\n",
       "        text-align: right;\n",
       "    }\n",
       "</style>\n",
       "<table border=\"1\" class=\"dataframe\">\n",
       "  <thead>\n",
       "    <tr style=\"text-align: right;\">\n",
       "      <th></th>\n",
       "      <th>id</th>\n",
       "      <th>kind</th>\n",
       "      <th>title</th>\n",
       "      <th>languages</th>\n",
       "      <th>genres</th>\n",
       "      <th>rating</th>\n",
       "      <th>director</th>\n",
       "      <th>cumulative worldwide gross</th>\n",
       "      <th>opening weekend united states</th>\n",
       "      <th>budget</th>\n",
       "      <th>plot</th>\n",
       "    </tr>\n",
       "  </thead>\n",
       "  <tbody>\n",
       "    <tr>\n",
       "      <th>0</th>\n",
       "      <td>111161</td>\n",
       "      <td>movie</td>\n",
       "      <td>The Shawshank Redemption</td>\n",
       "      <td>['English']</td>\n",
       "      <td>['Drama']</td>\n",
       "      <td>9.3</td>\n",
       "      <td>Frank Darabont</td>\n",
       "      <td>$58,500,000</td>\n",
       "      <td>$727,326, 20 Nov 1994</td>\n",
       "      <td>$25,000,000 (estimated)</td>\n",
       "      <td>Chronicles the experiences of a formerly succe...</td>\n",
       "    </tr>\n",
       "    <tr>\n",
       "      <th>1</th>\n",
       "      <td>68646</td>\n",
       "      <td>movie</td>\n",
       "      <td>The Godfather</td>\n",
       "      <td>['English', 'Italian', 'Latin']</td>\n",
       "      <td>['Crime', 'Drama']</td>\n",
       "      <td>9.2</td>\n",
       "      <td>Francis Ford Coppola</td>\n",
       "      <td>$245,066,411</td>\n",
       "      <td>$223,758, 04 Apr 1997</td>\n",
       "      <td>$6,000,000 (estimated)</td>\n",
       "      <td>The Godfather \"Don\" Vito Corleone is the head ...</td>\n",
       "    </tr>\n",
       "    <tr>\n",
       "      <th>2</th>\n",
       "      <td>468569</td>\n",
       "      <td>movie</td>\n",
       "      <td>The Dark Knight</td>\n",
       "      <td>['English', 'Mandarin']</td>\n",
       "      <td>['Action', 'Crime', 'Drama', 'Thriller']</td>\n",
       "      <td>9.1</td>\n",
       "      <td>Christopher Nolan</td>\n",
       "      <td>$1,004,558,444, 19 Jul 2012</td>\n",
       "      <td>$158,411,483, 20 Jul 2008</td>\n",
       "      <td>$185,000,000 (estimated)</td>\n",
       "      <td>Set within a year after the events of Batman B...</td>\n",
       "    </tr>\n",
       "    <tr>\n",
       "      <th>3</th>\n",
       "      <td>108052</td>\n",
       "      <td>movie</td>\n",
       "      <td>Schindler's List</td>\n",
       "      <td>['English', 'Hebrew', 'German', 'Polish', 'Lat...</td>\n",
       "      <td>['Biography', 'Drama', 'History']</td>\n",
       "      <td>9.0</td>\n",
       "      <td>Steven Spielberg</td>\n",
       "      <td>$221,000,000</td>\n",
       "      <td>$566,760, 09 Dec 2018</td>\n",
       "      <td>$22,000,000 (estimated)</td>\n",
       "      <td>Oskar Schindler is a vain and greedy German bu...</td>\n",
       "    </tr>\n",
       "    <tr>\n",
       "      <th>4</th>\n",
       "      <td>110912</td>\n",
       "      <td>movie</td>\n",
       "      <td>Pulp Fiction</td>\n",
       "      <td>['English', 'Spanish', 'French']</td>\n",
       "      <td>['Crime', 'Drama']</td>\n",
       "      <td>8.9</td>\n",
       "      <td>Quentin Tarantino</td>\n",
       "      <td>$213,928,762</td>\n",
       "      <td>$9,311,882, 14 Oct 1994</td>\n",
       "      <td>$8,000,000 (estimated)</td>\n",
       "      <td>Jules Winnfield (Samuel L. Jackson) and Vincen...</td>\n",
       "    </tr>\n",
       "  </tbody>\n",
       "</table>\n",
       "</div>"
      ],
      "text/plain": [
       "       id   kind                     title  \\\n",
       "0  111161  movie  The Shawshank Redemption   \n",
       "1   68646  movie             The Godfather   \n",
       "2  468569  movie           The Dark Knight   \n",
       "3  108052  movie          Schindler's List   \n",
       "4  110912  movie              Pulp Fiction   \n",
       "\n",
       "                                           languages  \\\n",
       "0                                        ['English']   \n",
       "1                    ['English', 'Italian', 'Latin']   \n",
       "2                            ['English', 'Mandarin']   \n",
       "3  ['English', 'Hebrew', 'German', 'Polish', 'Lat...   \n",
       "4                   ['English', 'Spanish', 'French']   \n",
       "\n",
       "                                     genres  rating              director  \\\n",
       "0                                 ['Drama']     9.3        Frank Darabont   \n",
       "1                        ['Crime', 'Drama']     9.2  Francis Ford Coppola   \n",
       "2  ['Action', 'Crime', 'Drama', 'Thriller']     9.1     Christopher Nolan   \n",
       "3         ['Biography', 'Drama', 'History']     9.0      Steven Spielberg   \n",
       "4                        ['Crime', 'Drama']     8.9     Quentin Tarantino   \n",
       "\n",
       "    cumulative worldwide gross opening weekend united states  \\\n",
       "0                  $58,500,000         $727,326, 20 Nov 1994   \n",
       "1                 $245,066,411         $223,758, 04 Apr 1997   \n",
       "2  $1,004,558,444, 19 Jul 2012     $158,411,483, 20 Jul 2008   \n",
       "3                 $221,000,000         $566,760, 09 Dec 2018   \n",
       "4                 $213,928,762       $9,311,882, 14 Oct 1994   \n",
       "\n",
       "                     budget                                               plot  \n",
       "0   $25,000,000 (estimated)  Chronicles the experiences of a formerly succe...  \n",
       "1    $6,000,000 (estimated)  The Godfather \"Don\" Vito Corleone is the head ...  \n",
       "2  $185,000,000 (estimated)  Set within a year after the events of Batman B...  \n",
       "3   $22,000,000 (estimated)  Oskar Schindler is a vain and greedy German bu...  \n",
       "4    $8,000,000 (estimated)  Jules Winnfield (Samuel L. Jackson) and Vincen...  "
      ]
     },
     "execution_count": 2,
     "metadata": {},
     "output_type": "execute_result"
    }
   ],
   "source": [
    "import pandas as pd\n",
    "\n",
    "imdb = pd.read_csv('imdb.csv')\n",
    "imdb.head()\n"
   ]
  },
  {
   "cell_type": "code",
   "execution_count": 3,
   "metadata": {},
   "outputs": [
    {
     "data": {
      "text/html": [
       "<div>\n",
       "<style scoped>\n",
       "    .dataframe tbody tr th:only-of-type {\n",
       "        vertical-align: middle;\n",
       "    }\n",
       "\n",
       "    .dataframe tbody tr th {\n",
       "        vertical-align: top;\n",
       "    }\n",
       "\n",
       "    .dataframe thead th {\n",
       "        text-align: right;\n",
       "    }\n",
       "</style>\n",
       "<table border=\"1\" class=\"dataframe\">\n",
       "  <thead>\n",
       "    <tr style=\"text-align: right;\">\n",
       "      <th></th>\n",
       "      <th>id</th>\n",
       "      <th>kind</th>\n",
       "      <th>title</th>\n",
       "      <th>languages</th>\n",
       "      <th>genres</th>\n",
       "      <th>rating</th>\n",
       "      <th>director</th>\n",
       "      <th>cumulative worldwide gross</th>\n",
       "      <th>opening weekend united states</th>\n",
       "      <th>budget</th>\n",
       "      <th>plot</th>\n",
       "    </tr>\n",
       "  </thead>\n",
       "  <tbody>\n",
       "    <tr>\n",
       "      <th>154</th>\n",
       "      <td>2085059</td>\n",
       "      <td>tv series</td>\n",
       "      <td>Black Mirror</td>\n",
       "      <td>['English']</td>\n",
       "      <td>['Drama', 'Mystery', 'Sci-Fi', 'Thriller']</td>\n",
       "      <td>8.8</td>\n",
       "      <td>NaN</td>\n",
       "      <td>000000000</td>\n",
       "      <td>000000000</td>\n",
       "      <td>000000000</td>\n",
       "      <td>[\"An anthology series exploring a twisted, hig...</td>\n",
       "    </tr>\n",
       "    <tr>\n",
       "      <th>155</th>\n",
       "      <td>2707408</td>\n",
       "      <td>tv series</td>\n",
       "      <td>Narcos</td>\n",
       "      <td>['English', 'Spanish']</td>\n",
       "      <td>['Biography', 'Crime', 'Drama', 'Thriller']</td>\n",
       "      <td>8.8</td>\n",
       "      <td>NaN</td>\n",
       "      <td>000000000</td>\n",
       "      <td>000000000</td>\n",
       "      <td>000000000</td>\n",
       "      <td>['A chronicled look at the criminal exploits o...</td>\n",
       "    </tr>\n",
       "    <tr>\n",
       "      <th>156</th>\n",
       "      <td>98936</td>\n",
       "      <td>tv series</td>\n",
       "      <td>Twin Peaks</td>\n",
       "      <td>['English', 'Icelandic', 'Afrikaans', 'Norwegi...</td>\n",
       "      <td>['Crime', 'Drama', 'Mystery', 'Thriller']</td>\n",
       "      <td>8.8</td>\n",
       "      <td>NaN</td>\n",
       "      <td>000000000</td>\n",
       "      <td>000000000</td>\n",
       "      <td>000000000</td>\n",
       "      <td>['An idiosyncratic FBI agent investigates the ...</td>\n",
       "    </tr>\n",
       "    <tr>\n",
       "      <th>157</th>\n",
       "      <td>4934214</td>\n",
       "      <td>tv series</td>\n",
       "      <td>Taskmaster</td>\n",
       "      <td>['English']</td>\n",
       "      <td>['Comedy', 'Game-Show']</td>\n",
       "      <td>9.0</td>\n",
       "      <td>NaN</td>\n",
       "      <td>000000000</td>\n",
       "      <td>000000000</td>\n",
       "      <td>000000000</td>\n",
       "      <td>['Five comedians are set tasks challenging the...</td>\n",
       "    </tr>\n",
       "    <tr>\n",
       "      <th>158</th>\n",
       "      <td>200276</td>\n",
       "      <td>tv series</td>\n",
       "      <td>The West Wing</td>\n",
       "      <td>['English']</td>\n",
       "      <td>['Drama']</td>\n",
       "      <td>8.9</td>\n",
       "      <td>NaN</td>\n",
       "      <td>000000000</td>\n",
       "      <td>000000000</td>\n",
       "      <td>000000000</td>\n",
       "      <td>['Inside the lives of staffers in the West Win...</td>\n",
       "    </tr>\n",
       "  </tbody>\n",
       "</table>\n",
       "</div>"
      ],
      "text/plain": [
       "          id       kind          title  \\\n",
       "154  2085059  tv series   Black Mirror   \n",
       "155  2707408  tv series         Narcos   \n",
       "156    98936  tv series     Twin Peaks   \n",
       "157  4934214  tv series     Taskmaster   \n",
       "158   200276  tv series  The West Wing   \n",
       "\n",
       "                                             languages  \\\n",
       "154                                        ['English']   \n",
       "155                             ['English', 'Spanish']   \n",
       "156  ['English', 'Icelandic', 'Afrikaans', 'Norwegi...   \n",
       "157                                        ['English']   \n",
       "158                                        ['English']   \n",
       "\n",
       "                                          genres  rating director  \\\n",
       "154   ['Drama', 'Mystery', 'Sci-Fi', 'Thriller']     8.8      NaN   \n",
       "155  ['Biography', 'Crime', 'Drama', 'Thriller']     8.8      NaN   \n",
       "156    ['Crime', 'Drama', 'Mystery', 'Thriller']     8.8      NaN   \n",
       "157                      ['Comedy', 'Game-Show']     9.0      NaN   \n",
       "158                                    ['Drama']     8.9      NaN   \n",
       "\n",
       "    cumulative worldwide gross opening weekend united states     budget  \\\n",
       "154                  000000000                     000000000  000000000   \n",
       "155                  000000000                     000000000  000000000   \n",
       "156                  000000000                     000000000  000000000   \n",
       "157                  000000000                     000000000  000000000   \n",
       "158                  000000000                     000000000  000000000   \n",
       "\n",
       "                                                  plot  \n",
       "154  [\"An anthology series exploring a twisted, hig...  \n",
       "155  ['A chronicled look at the criminal exploits o...  \n",
       "156  ['An idiosyncratic FBI agent investigates the ...  \n",
       "157  ['Five comedians are set tasks challenging the...  \n",
       "158  ['Inside the lives of staffers in the West Win...  "
      ]
     },
     "execution_count": 3,
     "metadata": {},
     "output_type": "execute_result"
    }
   ],
   "source": [
    "imdb.tail()"
   ]
  },
  {
   "cell_type": "code",
   "execution_count": 4,
   "metadata": {},
   "outputs": [
    {
     "name": "stdout",
     "output_type": "stream",
     "text": [
      "<class 'pandas.core.frame.DataFrame'>\n",
      "RangeIndex: 159 entries, 0 to 158\n",
      "Data columns (total 11 columns):\n",
      " #   Column                         Non-Null Count  Dtype  \n",
      "---  ------                         --------------  -----  \n",
      " 0   id                             159 non-null    int64  \n",
      " 1   kind                           159 non-null    object \n",
      " 2   title                          159 non-null    object \n",
      " 3   languages                      159 non-null    object \n",
      " 4   genres                         159 non-null    object \n",
      " 5   rating                         159 non-null    float64\n",
      " 6   director                       97 non-null     object \n",
      " 7   cumulative worldwide gross     159 non-null    object \n",
      " 8   opening weekend united states  159 non-null    object \n",
      " 9   budget                         159 non-null    object \n",
      " 10  plot                           159 non-null    object \n",
      "dtypes: float64(1), int64(1), object(9)\n",
      "memory usage: 13.8+ KB\n"
     ]
    },
    {
     "data": {
      "text/plain": [
       "id                               159\n",
       "kind                               3\n",
       "title                            158\n",
       "languages                         53\n",
       "genres                            83\n",
       "rating                            16\n",
       "director                          65\n",
       "cumulative worldwide gross        98\n",
       "opening weekend united states     98\n",
       "budget                            66\n",
       "plot                             159\n",
       "dtype: int64"
      ]
     },
     "execution_count": 4,
     "metadata": {},
     "output_type": "execute_result"
    }
   ],
   "source": [
    "imdb.info()\n",
    "imdb.nunique()"
   ]
  },
  {
   "cell_type": "code",
   "execution_count": 5,
   "metadata": {},
   "outputs": [
    {
     "data": {
      "text/plain": [
       "id                                0\n",
       "kind                              0\n",
       "title                             0\n",
       "languages                         0\n",
       "genres                            0\n",
       "rating                            0\n",
       "director                         62\n",
       "cumulative worldwide gross        0\n",
       "opening weekend united states     0\n",
       "budget                            0\n",
       "plot                              0\n",
       "dtype: int64"
      ]
     },
     "execution_count": 5,
     "metadata": {},
     "output_type": "execute_result"
    }
   ],
   "source": [
    "imdb.isnull().sum()"
   ]
  },
  {
   "cell_type": "markdown",
   "metadata": {},
   "source": [
    "- **62 mal budget, opening weekend united states und cumulative worldwide gross 000000**\n",
    "- **title alle 1 mal ausser Fargo 2 mal**\n",
    "- **62 kein direktor also NaN**"
   ]
  },
  {
   "cell_type": "markdown",
   "metadata": {},
   "source": [
    "##### __(a)  What is the min, max, and the average value of the attribute 'rating' for all movies? [1 point].__ "
   ]
  },
  {
   "cell_type": "code",
   "execution_count": 6,
   "metadata": {},
   "outputs": [
    {
     "name": "stdout",
     "output_type": "stream",
     "text": [
      "Min value rating is 8.1\n",
      "Max value rating is 9.6\n",
      "Mean value rating is 8.629559748427672\n"
     ]
    }
   ],
   "source": [
    "#Order rows by values of a column (high to low)\n",
    "imdb.sort_values('rating', ascending=False)\n",
    "\n",
    "#min rating \n",
    "min_rating = imdb['rating'].min()\n",
    "print(f\"Min value rating is {min_rating}\")\n",
    "\n",
    "\n",
    "max_rating = imdb['rating'].max()\n",
    "print(f\"Max value rating is {max_rating}\")\n",
    "\n",
    "mean_rating = imdb['rating'].mean()\n",
    "print(f\"Mean value rating is {mean_rating}\")"
   ]
  },
  {
   "cell_type": "markdown",
   "metadata": {},
   "source": [
    "##### __(b) What is the min, max, and the average value of the attribute 'cumulative worldwide gross' for all movies? [1 point].__ "
   ]
  },
  {
   "cell_type": "code",
   "execution_count": 7,
   "metadata": {},
   "outputs": [
    {
     "name": "stdout",
     "output_type": "stream",
     "text": [
      "Min value of cumulative worldwide gross is 0\n",
      "Max value of cumulative worldwide gross is 2797800564\n",
      "Mean value of cumulative worldwide gross is 238223230.15\n"
     ]
    }
   ],
   "source": [
    "#Order rows by values of a column (high to low)\n",
    "imdb.sort_values('cumulative worldwide gross', ascending=False)\n",
    "\n",
    "# Ensure the column is of type string before using .str methods\n",
    "imdb['cumulative worldwide gross'] = imdb['cumulative worldwide gross'].astype(str)\n",
    "\n",
    "# Step 1: Remove dollar signs and commas\n",
    "imdb['cumulative worldwide gross'] = imdb['cumulative worldwide gross'].str.replace('[$,]', '', regex=True)\n",
    "\n",
    "# Step 2: Remove any trailing date information by extracting only the numeric part\n",
    "imdb['cumulative worldwide gross'] = imdb['cumulative worldwide gross'].str.extract(r'(\\d+)')[0]\n",
    "\n",
    "# Step 3: Convert the column to numeric, setting errors='coerce' to handle any non-numeric values as NaN\n",
    "imdb['cumulative worldwide gross'] = pd.to_numeric(imdb['cumulative worldwide gross'], errors='coerce')\n",
    "\n",
    "# Calculate minimum, maximum, and mean values\n",
    "min_gross = imdb['cumulative worldwide gross'].min()\n",
    "max_gross = imdb['cumulative worldwide gross'].max()\n",
    "mean_gross = imdb['cumulative worldwide gross'].mean()\n",
    "\n",
    "# Print the results\n",
    "print(f\"Min value of cumulative worldwide gross is {min_gross}\")\n",
    "print(f\"Max value of cumulative worldwide gross is {max_gross}\")\n",
    "print(f\"Mean value of cumulative worldwide gross is {mean_gross:.2f}\")\n"
   ]
  },
  {
   "cell_type": "markdown",
   "metadata": {},
   "source": [
    "##### __(c) What is the min, max, and the average value of the attribute 'cumulative worldwide gross' grouped by genre of the movies? [1 point].__ "
   ]
  },
  {
   "cell_type": "code",
   "execution_count": null,
   "metadata": {},
   "outputs": [],
   "source": []
  },
  {
   "cell_type": "markdown",
   "metadata": {},
   "source": [
    "##### __(d) What is the profit (defined as cumulative worldwide gross - budget) of each movie? [1 point].__ "
   ]
  },
  {
   "cell_type": "code",
   "execution_count": null,
   "metadata": {},
   "outputs": [],
   "source": []
  },
  {
   "cell_type": "markdown",
   "metadata": {},
   "source": [
    "##### __(e)  What is the min, max, and the average value of the atttribute 'opening weekend united states' per month? [4 points].__ "
   ]
  },
  {
   "cell_type": "code",
   "execution_count": null,
   "metadata": {},
   "outputs": [],
   "source": []
  },
  {
   "cell_type": "markdown",
   "metadata": {},
   "source": [
    "#### Task 02: Unstructured Data [12 points]. \n",
    "We again use the imdb.csv file from Task 01. In this task we mainly use the content of the attribute 'plot' for the implementation of a retrieval system."
   ]
  },
  {
   "cell_type": "markdown",
   "metadata": {},
   "source": [
    "##### __(a)  Read the files imdb.csv and imdb2.csv in a dataframe called imdb. Add a column which is called 'plotterms' to each item. The new column should contain all terms (lower-case and cleaned from special characters) from the plot attribute which are not contained in the stopwords_english.txt file. [2 points]__ "
   ]
  },
  {
   "cell_type": "code",
   "execution_count": null,
   "metadata": {},
   "outputs": [],
   "source": []
  },
  {
   "cell_type": "markdown",
   "metadata": {},
   "source": [
    "##### __(b)  Create an inverted index for the terms in the 'plotterms' column. Use a datastructure of your choice for the implementation [2 points]__ "
   ]
  },
  {
   "cell_type": "code",
   "execution_count": null,
   "metadata": {},
   "outputs": [],
   "source": []
  },
  {
   "cell_type": "markdown",
   "metadata": {},
   "source": [
    "##### __(c) Take the inverted index and create the posting list for the query 'american'. Return the posting list as well as the top5 items scored by the rating attribute. [2 points]__ "
   ]
  },
  {
   "cell_type": "code",
   "execution_count": null,
   "metadata": {},
   "outputs": [],
   "source": []
  },
  {
   "cell_type": "markdown",
   "metadata": {},
   "source": [
    "##### __(d) Extend your index to be able to rank the items by the occurrence of search terms in the plotterms. Execute the query 'american' and 'dream' (the term 'american' as well as the term 'dream' should be contained in the plot) again and print the resulting top5 items.  [2 points]__"
   ]
  },
  {
   "cell_type": "code",
   "execution_count": null,
   "metadata": {},
   "outputs": [],
   "source": []
  },
  {
   "cell_type": "markdown",
   "metadata": {},
   "source": [
    "##### __(e) Extend your index to be able to rank the items by the position of the search terms in the plotterms. Execute the query 'american' and 'dream' (the term 'american' as well as the term 'dream' should be contained in the plot) again and print the resulting top5 items.  [2 points]__"
   ]
  },
  {
   "cell_type": "code",
   "execution_count": null,
   "metadata": {},
   "outputs": [],
   "source": []
  },
  {
   "cell_type": "markdown",
   "metadata": {},
   "source": [
    "##### __(f) Extend your index to be able to rank the items by a value of your choice. Explain why you have chosen this value. Execute the query 'american' and 'dream' (the term 'american' as well as the term 'dream' should be contained in the plot) again and print the resulting top5 items.  [2 points]__"
   ]
  },
  {
   "cell_type": "code",
   "execution_count": null,
   "metadata": {},
   "outputs": [],
   "source": []
  }
 ],
 "metadata": {
  "kernelspec": {
   "display_name": ".venv",
   "language": "python",
   "name": "python3"
  },
  "language_info": {
   "codemirror_mode": {
    "name": "ipython",
    "version": 3
   },
   "file_extension": ".py",
   "mimetype": "text/x-python",
   "name": "python",
   "nbconvert_exporter": "python",
   "pygments_lexer": "ipython3",
   "version": "3.11.5"
  }
 },
 "nbformat": 4,
 "nbformat_minor": 4
}
